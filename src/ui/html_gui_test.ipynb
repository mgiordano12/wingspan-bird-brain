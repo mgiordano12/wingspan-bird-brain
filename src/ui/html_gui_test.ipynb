{
 "cells": [
  {
   "cell_type": "code",
   "execution_count": 1,
   "metadata": {},
   "outputs": [],
   "source": [
    "%load_ext autoreload\n",
    "%autoreload 2"
   ]
  },
  {
   "cell_type": "code",
   "execution_count": 2,
   "metadata": {},
   "outputs": [],
   "source": [
    "import sys\n",
    "sys.path.append('../')\n",
    "from BirdCard import BirdCard\n",
    "from imagepaths import habitat_paths, food_paths, nest_paths\n",
    "from load_data_functions import load_birdcards\n",
    "from Gameplay_Constants import FOOD_TYPES, BIRDCARD_FOOD_MAPPING\n",
    "\n",
    "from xml.dom.minidom import getDOMImplementation, parseString\n",
    "import os\n",
    "\n",
    "WORKDIR = r'C:\\Users\\osmou\\Documents\\GitHub\\wingspan-bird-brain\\src'\n",
    "\n",
    "birdcards = load_birdcards()"
   ]
  },
  {
   "cell_type": "markdown",
   "metadata": {},
   "source": [
    "# Helpers"
   ]
  },
  {
   "cell_type": "code",
   "execution_count": 3,
   "metadata": {},
   "outputs": [],
   "source": [
    "def imgTag(src, width=20, height=20):\n",
    "    return parseString(f'<img src=\"{src}\" width=\"{width}\" height=\"{height}\"></img>').documentElement"
   ]
  },
  {
   "cell_type": "markdown",
   "metadata": {},
   "source": [
    "# Creators"
   ]
  },
  {
   "cell_type": "code",
   "execution_count": 4,
   "metadata": {},
   "outputs": [],
   "source": [
    "#=======================================================================================================================\n",
    "def createBirdCardDiv(birdcard):\n",
    "    assert type(birdcard) is BirdCard\n",
    "\n",
    "    topDiv = parseString(f'<div class=\"birdcard\" style=\"border: 1px solid black; font-family: cursive; font-weight: bold; display: inline-block;\"> <u>{birdcard.common_name}</u> </div>').documentElement\n",
    "    topDiv.appendChild(parseString(f'<div class=\"bird info\" style=\"font-weight: normal;\">VP: {birdcard.victory_points}, Wingspan: {birdcard.wingspan}</div>').documentElement)\n",
    "\n",
    "    # Habitats\n",
    "    habitatDiv = parseString('<div class=\"habitats\"></div>').documentElement\n",
    "    if birdcard.forest:\n",
    "        habitatDiv.appendChild(imgTag(os.path.join(WORKDIR, habitat_paths['Forest'])))\n",
    "    if birdcard.grassland:\n",
    "        habitatDiv.appendChild(imgTag(os.path.join(WORKDIR, habitat_paths['Grassland'])))\n",
    "    if birdcard.wetland:\n",
    "        habitatDiv.appendChild(imgTag(os.path.join(WORKDIR, habitat_paths['Wetland'])))\n",
    "    topDiv.appendChild(habitatDiv)\n",
    "\n",
    "    # Food Cost\n",
    "    sep = '/' if birdcard.slash_food_cost else '+'\n",
    "    totalFoodCost = birdcard.total_food_cost\n",
    "    foodAdded = 0\n",
    "    foodCostDiv = parseString('<div class=\"foodCost\" style=\"display: flex;\"></div>').documentElement\n",
    "    for food in FOOD_TYPES:\n",
    "        cnt = birdcard.__dict__[BIRDCARD_FOOD_MAPPING[food]]\n",
    "        for i in range(cnt):\n",
    "            foodCostDiv.appendChild(imgTag(os.path.join(WORKDIR, food_paths[food])))\n",
    "            foodAdded += 1\n",
    "            if foodAdded < totalFoodCost:\n",
    "                # foodCostDiv.appendChild(doc.createTextNode(sep))\n",
    "                foodCostDiv.appendChild(parseString(f'<div>{sep}</div>').documentElement)\n",
    "    topDiv.appendChild(foodCostDiv)\n",
    "\n",
    "    # Nest type and eggs\n",
    "    nestDiv = parseString('<div class=\"nest\"></div>').documentElement\n",
    "    nestDiv.appendChild(imgTag(os.path.join(WORKDIR, nest_paths[birdcard.nest_type])))\n",
    "    for i in range(birdcard.laideggs):\n",
    "        nestDiv.appendChild(imgTag(os.path.join(WORKDIR, 'ui', 'images', 'game_egg.png'), height=25, width=25))\n",
    "    for i in range(birdcard.egg_capacity - birdcard.laideggs):\n",
    "        nestDiv.appendChild(imgTag(os.path.join(WORKDIR, 'ui', 'images', 'game_smallegg.png')))\n",
    "    topDiv.appendChild(nestDiv)\n",
    "\n",
    "    # Power text\n",
    "    topDiv.appendChild(parseString(f'<div class=\"power text\" style=\"font-weight: normal;\">{birdcard.power_text}</div>').documentElement)\n",
    "\n",
    "    return topDiv"
   ]
  },
  {
   "cell_type": "code",
   "execution_count": 5,
   "metadata": {},
   "outputs": [
    {
     "name": "stdout",
     "output_type": "stream",
     "text": [
      "1 4\n",
      "False\n"
     ]
    }
   ],
   "source": [
    "# Create blank HTML\n",
    "impl = getDOMImplementation()\n",
    "doc = impl.createDocument(None, 'gui', None)\n",
    "html = doc.documentElement\n",
    "\n",
    "# Add test birdcard\n",
    "birdcard = birdcards[0]\n",
    "birdcard.laideggs = 1\n",
    "print(birdcard.laideggs, birdcard.egg_capacity)\n",
    "print(birdcard.slash_food_cost)\n",
    "html.appendChild(createBirdCardDiv(birdcard))\n",
    "\n",
    "# Write to HTML\n",
    "with open('test.html', 'w') as f:\n",
    "    split = doc.toprettyxml().split('\\n')\n",
    "    preface = split[0]\n",
    "    body = '\\n'.join(split[1:])\n",
    "    xml = '\\n'.join([preface, f'\\n<?xml-stylesheet type=\"text/css\" href=\"{os.path.join(os.getcwd(), 'style.css')}\"?>', body[:]])\n",
    "    f.write(xml)"
   ]
  },
  {
   "cell_type": "code",
   "execution_count": null,
   "metadata": {},
   "outputs": [],
   "source": []
  }
 ],
 "metadata": {
  "kernelspec": {
   "display_name": "Python 3",
   "language": "python",
   "name": "python3"
  },
  "language_info": {
   "codemirror_mode": {
    "name": "ipython",
    "version": 3
   },
   "file_extension": ".py",
   "mimetype": "text/x-python",
   "name": "python",
   "nbconvert_exporter": "python",
   "pygments_lexer": "ipython3",
   "version": "3.12.0"
  }
 },
 "nbformat": 4,
 "nbformat_minor": 2
}
