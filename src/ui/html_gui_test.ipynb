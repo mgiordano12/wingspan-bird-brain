{
 "cells": [
  {
   "cell_type": "code",
   "execution_count": null,
   "metadata": {},
   "outputs": [],
   "source": [
    "%load_ext autoreload\n",
    "%autoreload 2"
   ]
  },
  {
   "cell_type": "code",
   "execution_count": null,
   "metadata": {},
   "outputs": [],
   "source": [
    "import os\n",
    "os.chdir('C:/Users/osmou/Documents/GitHub/wingspan-bird-brain/src')\n",
    "print(os.getcwd())\n",
    "\n",
    "from EndOfRoundGoalMat import EndOfRoundGoalMat\n",
    "from load_data_functions import load_birdcards, load_bonuses\n",
    "from Player import Player\n",
    "from Birdfeeder import Birdfeeder\n",
    "from BirdCardDeck import BirdCardDeck\n",
    "from html_gui import createHTML\n",
    "\n",
    "import pickle"
   ]
  },
  {
   "cell_type": "markdown",
   "metadata": {},
   "source": [
    "# Create simulated game objects"
   ]
  },
  {
   "cell_type": "code",
   "execution_count": null,
   "metadata": {},
   "outputs": [],
   "source": [
    "birdcards = load_birdcards()\n",
    "bonuscards = load_bonuses()\n",
    "\n",
    "# Initialize the game elements we need\n",
    "eorgMat = EndOfRoundGoalMat()\n",
    "\n",
    "player = Player(birdcards=birdcards[50:60], bonuscards=bonuscards[-1:])\n",
    "player.food = {'Fish' : 1, 'Rodent' : 2, 'Fruit' : 3, 'Invertebrate' : 4, 'Seed' : 5}\n",
    "player.gamemat.habitats['forest'].append(birdcards[3])\n",
    "player.gamemat.habitats['forest'][0].layegg(2)\n",
    "player.gamemat.habitats['forest'].append(birdcards[4])\n",
    "player.gamemat.habitats['forest'].append(birdcards[5])\n",
    "# player.gamemat.habitats['forest'].append(birdcards[6])\n",
    "# player.gamemat.habitats['forest'].append(birdcards[7])\n",
    "player.gamemat.habitats['grassland'].append(birdcards[8])\n",
    "# player.gamemat.habitats['grassland'].append(birdcards[9])\n",
    "# player.gamemat.habitats['grassland'].append(birdcards[10])\n",
    "# player.gamemat.habitats['grassland'].append(birdcards[11])\n",
    "# player.gamemat.habitats['grassland'].append(birdcards[12])\n",
    "player.gamemat.habitats['wetland'].append(birdcards[13])\n",
    "player.gamemat.habitats['wetland'].append(birdcards[14])\n",
    "player.gamemat.habitats['wetland'].append(birdcards[15])\n",
    "player.gamemat.habitats['wetland'].append(birdcards[16])\n",
    "player.gamemat.habitats['wetland'].append(birdcards[17])\n",
    "\n",
    "birdfeeder = Birdfeeder()\n",
    "birdfeeder.take(birdfeeder.food[0]) # remove some food\n",
    "birdfeeder.take(birdfeeder.food[-1])\n",
    "\n",
    "birddeck = BirdCardDeck()"
   ]
  },
  {
   "cell_type": "markdown",
   "metadata": {},
   "source": [
    "# Pickle the game objects"
   ]
  },
  {
   "cell_type": "code",
   "execution_count": null,
   "metadata": {},
   "outputs": [],
   "source": [
    "def dictifyObjects(objects):\n",
    "    assert type(objects) is list\n",
    "    d = dict()\n",
    "    for obj in objects:\n",
    "        d[obj.__module__] = obj\n",
    "    return d\n",
    "\n",
    "objects = dictifyObjects([eorgMat, birdfeeder, birddeck, player])\n",
    "\n",
    "pklFile = './ui/Round1_Turn5.pkl'\n",
    "with open(pklFile, 'wb') as f:\n",
    "    pickle.dump(objects, f)\n",
    "    \n",
    "# Unpickle and make sure the unpickled is the same size as the original\n",
    "with open(pklFile, 'rb') as f:\n",
    "    out = pickle.load(f)\n",
    "\n",
    "out.__sizeof__(), objects.__sizeof__()"
   ]
  },
  {
   "cell_type": "markdown",
   "metadata": {},
   "source": [
    "# Use unpickled objects to create HTML"
   ]
  },
  {
   "cell_type": "code",
   "execution_count": null,
   "metadata": {},
   "outputs": [],
   "source": [
    "html = createHTML(1, 5, out['EndOfRoundGoalMat'], out['Player'], out['Birdfeeder'], out['BirdCardDeck'])\n",
    "with open('./ui/test.html', 'w') as f:\n",
    "    f.write(html)"
   ]
  },
  {
   "cell_type": "code",
   "execution_count": null,
   "metadata": {},
   "outputs": [],
   "source": []
  }
 ],
 "metadata": {
  "kernelspec": {
   "display_name": "Python 3",
   "language": "python",
   "name": "python3"
  },
  "language_info": {
   "codemirror_mode": {
    "name": "ipython",
    "version": 3
   },
   "file_extension": ".py",
   "mimetype": "text/x-python",
   "name": "python",
   "nbconvert_exporter": "python",
   "pygments_lexer": "ipython3",
   "version": "3.12.0"
  }
 },
 "nbformat": 4,
 "nbformat_minor": 2
}
