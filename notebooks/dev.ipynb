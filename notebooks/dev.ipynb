{
 "cells": [
  {
   "cell_type": "markdown",
   "metadata": {},
   "source": [
    "# Set the working directory to the src folder on your machine"
   ]
  },
  {
   "cell_type": "code",
   "execution_count": 1,
   "metadata": {},
   "outputs": [
    {
     "name": "stdout",
     "output_type": "stream",
     "text": [
      "C:\\Users\\osmou\\Documents\\GitHub\\wingspan-bird-brain\\src\n"
     ]
    }
   ],
   "source": [
    "import os\n",
    "os.chdir(r\"C:\\Users\\osmou\\Documents\\GitHub\\wingspan-bird-brain\\src\")\n",
    "print(os.getcwd())"
   ]
  },
  {
   "cell_type": "code",
   "execution_count": 2,
   "metadata": {},
   "outputs": [],
   "source": [
    "# Extension to autoreload code from other files when running code here\n",
    "# Don't need to restart kernel in order to reflect changes in other files\n",
    "%load_ext autoreload\n",
    "%autoreload 2"
   ]
  },
  {
   "cell_type": "code",
   "execution_count": 43,
   "metadata": {},
   "outputs": [],
   "source": [
    "from env import WingspanEnvironment\n",
    "from Gameplay_Constants import BIRDFEEDER_FACES, FOOD_TYPES, MAX_NUMBER_DIE_IN_BIRDFEEDER\n",
    "from Birdfeeder import Birdfeeder\n",
    "import gymnasium\n",
    "from gymnasium.spaces import Discrete, MultiDiscrete, Box, Text, MultiBinary\n",
    "from gymnasium.spaces.utils import flatten_space\n",
    "import numpy as np\n",
    "from pettingzoo.test import api_test, parallel_api_test"
   ]
  },
  {
   "cell_type": "code",
   "execution_count": 67,
   "metadata": {},
   "outputs": [],
   "source": [
    "env = WingspanEnvironment(render_mode=\"human\", log=False)\n",
    "_ = env.reset(seed=18)"
   ]
  },
  {
   "cell_type": "code",
   "execution_count": 75,
   "metadata": {},
   "outputs": [],
   "source": [
    "# # Make sure action spaces, action masks, and action descriptions have the same keys\n",
    "# for a in env.agents:\n",
    "#     aspace_keys = list(env.action_space(a).keys())\n",
    "#     amask_keys = list(env.observations[a][\"action_mask\"].keys())\n",
    "#     adesc_keys = list(env.action_descriptions.keys())\n",
    "#     assert np.all(aspace_keys == amask_keys), f\"Action space and action mask for agent {a} do not have matching keys.\"\n",
    "#     assert np.all(aspace_keys == adesc_keys), f\"Action space for agent '{a}' and action descriptions do not have matching keys.\"\n",
    "\n",
    "# # Make sure action spaces, action masks, and action descriptions are all the same shape\n",
    "# for a in env.agents:\n",
    "#     aspace = env.action_space(a)\n",
    "#     amask = env.observations[a][\"action_mask\"]\n",
    "#     adesc = env.action_descriptions\n",
    "#     assert aspace.n == len(amask), f\"Action space and action mask for agent {a} are not the same length\"\n",
    "#     assert aspace.n == len(adesc), f\"Action space for agent {a} and action descriptions are not the same length\""
   ]
  },
  {
   "cell_type": "code",
   "execution_count": 45,
   "metadata": {},
   "outputs": [
    {
     "name": "stdout",
     "output_type": "stream",
     "text": [
      "Birdfeeder: ['Fish', 'Invertebrate', 'Invertebrate+Seed', 'Fish', 'Fish']\n",
      "{'Fish': 1, 'Rodent': 1, 'Fruit': 1, 'Invertebrate': 1, 'Seed': 1}\n",
      "{'observation': {'Birdfeeder': [0, 3, 5, 0, 0]}, 'action_mask': {'Gain Food': array([1, 0, 0, 1, 0, 1, 1], dtype=int8), 'Reroll Birdfeeder': array([0], dtype=int8)}}\n"
     ]
    }
   ],
   "source": [
    "print(env.game.birdfeeder)\n",
    "print(env.game.players[env.agent_selection].food)\n",
    "print(env.observations[env.agent_selection])"
   ]
  },
  {
   "cell_type": "code",
   "execution_count": 46,
   "metadata": {},
   "outputs": [
    {
     "name": "stdout",
     "output_type": "stream",
     "text": [
      "{'bird-brain': OrderedDict({'Gain Food': 5, 'Reroll Birdfeeder': array([0], dtype=int8)})}\n",
      "Taking Invertebrate+Seed and gaining Invertebrate.\n"
     ]
    }
   ],
   "source": [
    "actions = {a: env.action_spaces[a].sample(env.observations[a][\"action_mask\"]) for a in env.agents}\n",
    "env.step(actions)"
   ]
  },
  {
   "cell_type": "code",
   "execution_count": 47,
   "metadata": {},
   "outputs": [
    {
     "name": "stdout",
     "output_type": "stream",
     "text": [
      "Birdfeeder: ['Fish', 'Invertebrate', 'Fish', 'Fish']\n",
      "{'Fish': 1, 'Rodent': 1, 'Fruit': 1, 'Invertebrate': 2, 'Seed': 1}\n",
      "{'observation': {'Birdfeeder': [0, 3, 0, 0, 6]}, 'action_mask': {'Gain Food': array([1, 0, 0, 1, 0, 0, 0], dtype=int8), 'Reroll Birdfeeder': array([0], dtype=int8)}}\n"
     ]
    }
   ],
   "source": [
    "print(env.game.birdfeeder)\n",
    "print(env.game.players[env.agent_selection].food)\n",
    "print(env.observe(env.agent_selection))"
   ]
  },
  {
   "cell_type": "code",
   "execution_count": null,
   "metadata": {},
   "outputs": [],
   "source": [
    "env.action_spaces[env.agent_selection].sample(env.observations[env.agent_selection][\"action_mask\"])"
   ]
  },
  {
   "cell_type": "code",
   "execution_count": 52,
   "metadata": {},
   "outputs": [
    {
     "name": "stdout",
     "output_type": "stream",
     "text": [
      "['Take Fish' 'Take Rodent' 'Take Fruit' 'Take Invertebrate' 'Take Seed'\n",
      " 'Take Invert+Seed, gain Invertebrate' 'Take Invert+Seed, gain Seed'\n",
      " 'Reroll Birdfeeder']\n",
      "\n",
      " Discrete(8)\n",
      "\n",
      " (8,) [1 0 0 1 0 0 0 0]\n",
      "\n",
      " 3 Take Invertebrate\n"
     ]
    }
   ],
   "source": [
    "action_descriptions = {\n",
    "    \"Gain Food\": [\n",
    "        \"Take Fish\", \"Take Rodent\", \"Take Fruit\", \"Take Invertebrate\",\n",
    "        \"Take Seed\", \"Take Invert+Seed, gain Invertebrate\", \n",
    "        \"Take Invert+Seed, gain Seed\",\n",
    "    ],\n",
    "    \"Reroll Birdfeeder\": [\"Reroll Birdfeeder\",],\n",
    "}\n",
    "flat_action_descriptions = np.concatenate(list(action_descriptions.values()))\n",
    "print(flat_action_descriptions)\n",
    "\n",
    "flat_action_space = flatten_space(env.action_space(env.agent_selection))\n",
    "flat_action_space = Discrete(flat_action_space.shape[0])\n",
    "print(\"\\n\", flat_action_space)\n",
    "\n",
    "flat_action_mask = np.concatenate(list(env.observations[env.agent_selection][\"action_mask\"].values()))\n",
    "print(\"\\n\", flat_action_mask.shape, flat_action_mask)\n",
    "\n",
    "sampled_action = flat_action_space.sample(flat_action_mask)\n",
    "print(\"\\n\", sampled_action, flat_action_descriptions[sampled_action])"
   ]
  }
 ],
 "metadata": {
  "kernelspec": {
   "display_name": "base",
   "language": "python",
   "name": "python3"
  },
  "language_info": {
   "codemirror_mode": {
    "name": "ipython",
    "version": 3
   },
   "file_extension": ".py",
   "mimetype": "text/x-python",
   "name": "python",
   "nbconvert_exporter": "python",
   "pygments_lexer": "ipython3",
   "version": "3.12.0"
  },
  "orig_nbformat": 4
 },
 "nbformat": 4,
 "nbformat_minor": 2
}
