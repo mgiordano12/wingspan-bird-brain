{
 "cells": [
  {
   "cell_type": "markdown",
   "metadata": {},
   "source": [
    "# Set the working directory to the src folder on your machine"
   ]
  },
  {
   "cell_type": "code",
   "execution_count": 1,
   "metadata": {},
   "outputs": [
    {
     "name": "stdout",
     "output_type": "stream",
     "text": [
      "C:\\Users\\osmou\\Documents\\GitHub\\wingspan-bird-brain\\src\n"
     ]
    }
   ],
   "source": [
    "import os\n",
    "os.chdir(r\"C:\\Users\\osmou\\Documents\\GitHub\\wingspan-bird-brain\\src\")\n",
    "print(os.getcwd())"
   ]
  },
  {
   "cell_type": "code",
   "execution_count": 2,
   "metadata": {},
   "outputs": [],
   "source": [
    "%load_ext autoreload\n",
    "%autoreload 2"
   ]
  },
  {
   "cell_type": "code",
   "execution_count": 188,
   "metadata": {},
   "outputs": [],
   "source": [
    "from env import WingspanEnvironment\n",
    "from Gameplay_Constants import BIRDFEEDER_FACES, FOOD_TYPES, MAX_NUMBER_DIE_IN_BIRDFEEDER\n",
    "from Birdfeeder import Birdfeeder\n",
    "import gymnasium\n",
    "from gymnasium.spaces import Discrete, MultiDiscrete, Box\n",
    "import numpy as np\n",
    "from pettingzoo.test import parallel_api_test"
   ]
  },
  {
   "cell_type": "code",
   "execution_count": 191,
   "metadata": {},
   "outputs": [
    {
     "ename": "NotImplementedError",
     "evalue": "",
     "output_type": "error",
     "traceback": [
      "\u001b[1;31m---------------------------------------------------------------------------\u001b[0m",
      "\u001b[1;31mNotImplementedError\u001b[0m                       Traceback (most recent call last)",
      "Cell \u001b[1;32mIn[191], line 2\u001b[0m\n\u001b[0;32m      1\u001b[0m env \u001b[38;5;241m=\u001b[39m WingspanEnvironment(render_mode\u001b[38;5;241m=\u001b[39m\u001b[38;5;124m\"\u001b[39m\u001b[38;5;124mhuman\u001b[39m\u001b[38;5;124m\"\u001b[39m, log\u001b[38;5;241m=\u001b[39m\u001b[38;5;28;01mFalse\u001b[39;00m)\n\u001b[1;32m----> 2\u001b[0m \u001b[43mparallel_api_test\u001b[49m\u001b[43m(\u001b[49m\u001b[43menv\u001b[49m\u001b[43m,\u001b[49m\u001b[43m \u001b[49m\u001b[43mnum_cycles\u001b[49m\u001b[38;5;241;43m=\u001b[39;49m\u001b[38;5;241;43m1\u001b[39;49m\u001b[43m)\u001b[49m\n",
      "File \u001b[1;32mc:\\Users\\osmou\\AppData\\Local\\Programs\\Python\\Python312\\Lib\\site-packages\\pettingzoo\\test\\parallel_test.py:68\u001b[0m, in \u001b[0;36mparallel_api_test\u001b[1;34m(par_env, num_cycles)\u001b[0m\n\u001b[0;32m     59\u001b[0m \u001b[38;5;28;01mfor\u001b[39;00m _ \u001b[38;5;129;01min\u001b[39;00m \u001b[38;5;28mrange\u001b[39m(num_cycles):\n\u001b[0;32m     60\u001b[0m     actions \u001b[38;5;241m=\u001b[39m {\n\u001b[0;32m     61\u001b[0m         agent: sample_action(par_env, obs, agent)\n\u001b[0;32m     62\u001b[0m         \u001b[38;5;28;01mfor\u001b[39;00m agent \u001b[38;5;129;01min\u001b[39;00m par_env\u001b[38;5;241m.\u001b[39magents\n\u001b[1;32m   (...)\u001b[0m\n\u001b[0;32m     66\u001b[0m         )\n\u001b[0;32m     67\u001b[0m     }\n\u001b[1;32m---> 68\u001b[0m     obs, rew, terminated, truncated, info \u001b[38;5;241m=\u001b[39m \u001b[43mpar_env\u001b[49m\u001b[38;5;241;43m.\u001b[39;49m\u001b[43mstep\u001b[49m\u001b[43m(\u001b[49m\u001b[43mactions\u001b[49m\u001b[43m)\u001b[49m\n\u001b[0;32m     69\u001b[0m     \u001b[38;5;28;01mfor\u001b[39;00m agent \u001b[38;5;129;01min\u001b[39;00m par_env\u001b[38;5;241m.\u001b[39magents:\n\u001b[0;32m     70\u001b[0m         \u001b[38;5;28;01massert\u001b[39;00m agent \u001b[38;5;129;01mnot\u001b[39;00m \u001b[38;5;129;01min\u001b[39;00m has_finished, \u001b[38;5;124m\"\u001b[39m\u001b[38;5;124magent cannot be revived once dead\u001b[39m\u001b[38;5;124m\"\u001b[39m\n",
      "File \u001b[1;32m~\\Documents\\GitHub\\wingspan-bird-brain\\src\\env.py:110\u001b[0m, in \u001b[0;36mWingspanEnvironment.step\u001b[1;34m(self, actions)\u001b[0m\n\u001b[0;32m     98\u001b[0m \u001b[38;5;28;01mdef\u001b[39;00m \u001b[38;5;21mstep\u001b[39m(\u001b[38;5;28mself\u001b[39m, actions):\n\u001b[0;32m     99\u001b[0m \u001b[38;5;250m    \u001b[39m\u001b[38;5;124;03m\"\"\"\u001b[39;00m\n\u001b[0;32m    100\u001b[0m \u001b[38;5;124;03m    step(action) takes in an action for the current agent (specified by\u001b[39;00m\n\u001b[0;32m    101\u001b[0m \u001b[38;5;124;03m    agent_selection) and needs to update\u001b[39;00m\n\u001b[1;32m   (...)\u001b[0m\n\u001b[0;32m    108\u001b[0m \u001b[38;5;124;03m    And any internal state used by observe() or render()\u001b[39;00m\n\u001b[0;32m    109\u001b[0m \u001b[38;5;124;03m    \"\"\"\u001b[39;00m\n\u001b[1;32m--> 110\u001b[0m     \u001b[38;5;28;01mraise\u001b[39;00m \u001b[38;5;167;01mNotImplementedError\u001b[39;00m\n",
      "\u001b[1;31mNotImplementedError\u001b[0m: "
     ]
    }
   ],
   "source": [
    "env = WingspanEnvironment(render_mode=\"human\", log=False)\n",
    "parallel_api_test(env, num_cycles=1)"
   ]
  },
  {
   "cell_type": "code",
   "execution_count": 187,
   "metadata": {},
   "outputs": [],
   "source": [
    "# birdfeeder = Birdfeeder()\n",
    "\n",
    "# # Defined for each agent in reset()\n",
    "# action_space = gymnasium.spaces.Dict({\n",
    "#     \"Gain Food\" : Discrete(len(FOOD_TYPES)),  # Gain food one at a time\n",
    "# })\n",
    "\n",
    "# # Defined for each agent in reset()\n",
    "# observation_space = gymnasium.spaces.Dict({\n",
    "#     \"observations\": gymnasium.spaces.Dict({\n",
    "#         \"Birdfeeder\" : MultiDiscrete([len(BIRDFEEDER_FACES)+1,]*MAX_NUMBER_DIE_IN_BIRDFEEDER), # +1 for die out of feeder\n",
    "#     }),\n",
    "#     \"action_mask\": gymnasium.spaces.Dict({\n",
    "#         \"Gain Food\": Box(low=0, high=1, shape=(len(FOOD_TYPES),), dtype=\"int8\")\n",
    "#     })\n",
    "# })\n",
    "\n",
    "# # created in observe() fn\n",
    "# observation = {\n",
    "#     # 0=Fish, 1=Rodent, 2=Fruit, 3=Invertebrate, 4=Seed, 5=Invertebrate+seed, 6=dieOutOfFeeder\n",
    "#     \"Birdfeeder\": [\n",
    "#         np.argwhere(np.array(BIRDFEEDER_FACES)==birdfeeder.food[i])[0][0] if i < len(birdfeeder.food) else 6\n",
    "#         for i in range(MAX_NUMBER_DIE_IN_BIRDFEEDER)\n",
    "#     ]\n",
    "# }\n",
    "# action_mask = {\n",
    "#     \"Gain Food\": np.array([1 if f in str(birdfeeder.food) else 0 for f in FOOD_TYPES], dtype=\"int8\")\n",
    "# }\n",
    "\n",
    "# # Sample to choose action\n",
    "# sample = action_space.sample(action_mask)\n",
    "\n",
    "# print(birdfeeder)\n",
    "# print(\"FOOD_TYPES:\", FOOD_TYPES)\n",
    "# print(action_mask)\n",
    "# print(\"Sample:\", sample)\n",
    "# print(\"Chosen food:\", BIRDFEEDER_FACES[sample[\"Gain Food\"]])"
   ]
  }
 ],
 "metadata": {
  "kernelspec": {
   "display_name": "base",
   "language": "python",
   "name": "python3"
  },
  "language_info": {
   "codemirror_mode": {
    "name": "ipython",
    "version": 3
   },
   "file_extension": ".py",
   "mimetype": "text/x-python",
   "name": "python",
   "nbconvert_exporter": "python",
   "pygments_lexer": "ipython3",
   "version": "3.12.0"
  },
  "orig_nbformat": 4
 },
 "nbformat": 4,
 "nbformat_minor": 2
}
